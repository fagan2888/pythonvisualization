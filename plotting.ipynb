{
 "cells": [
  {
   "cell_type": "markdown",
   "metadata": {},
   "source": [
    "# Data Visualization in Python with [matplotlib](https://matplotlib.org/) and [pandas](https://pandas.pydata.org/)\n",
    "----\n",
    "## Table of Contents\n",
    "\n",
    "[1. Intro Slides and Plot Anatomy](#S1)  \n",
    "[2. Getting Started](#S2)  \n",
    "[3. pylab, object oriented, and Pandas approaches](#S3)  \n",
    "[4. Style Basics](#S4)  \n",
    "[5. Style Presets](#S5)  \n",
    "[6. Subplots](#S6)    \n",
    "[7. Legends](#S7)  \n",
    "[8. Annotations, Layers & Mathtext](#S8)  \n",
    "[9. Pandas: Dates, groupby](#S9)  \n",
    "[10. Statistical Visualization in Seaborn](#S10)  \n",
    "[11. Images and 3D plots](#S11)  \n",
    "[12. Palettable](#S12)  \n",
    "[13. Documentation and Resources](#S13)  \n"
   ]
  },
  {
   "cell_type": "markdown",
   "metadata": {},
   "source": [
    "---\n",
    "## 1. Intro & Plot Anatomy<a id='S1'></a>\n",
    "__[A few intro slides ](https://gitpitch.com/jimbopants/pythonvisualization#/)__\n",
    "\n",
    "\n",
    "### Major packages used in this class:\n",
    "* **Matplotlib**: Main plotting library in python. It’s very powerful/flexible but sometimes requires fiddling to make things look perfect\n",
    "* **Pandas**: Adds support to python for SQL/spreadsheet like data structures called dataframes. We will use this to speed up some data manipulation. It also has it's own plotting functionality that we will mostly ignore. \n",
    "* **Seaborn**: This is a wrapper for matplotlib that prettifies the default settings, allows you to quickly specify options/style and adds a few new plot types/statistical overlays for data.  \n",
    "\n",
    "### Figure Anatomy\n",
    "* A **Figure** is a high-level container where axes are drawn. It can contain multiple multiple Axes, a subtitle (which is a centered title for the figure), a legend, a color bar, etc.\n",
    "* An **Axes** is the area on which we plot our data and any labels/ticks associated with it. Each Axes has an X-Axis and a Y-Axis\n"
   ]
  },
  {
   "cell_type": "markdown",
   "metadata": {},
   "source": [
    "<tr>\n",
    "    <td> <img src=\"Images/plotparts.png\" alt=\"Drawing\" style=\"width: 375px;\"/> </td>\n",
    "    <td> <img src=\"Images/anatomy1.png\" alt=\"Drawing\" style=\"width: 375px;\"/> </td>\n",
    "</tr>"
   ]
  },
  {
   "cell_type": "markdown",
   "metadata": {},
   "source": [
    "---\n",
    "## 2. Getting Started<a id='S2'></a>\n",
    "\n",
    "* Import libraries  \n",
    "* Tell the notebook to show matplotlib plots inline.  \n",
    "* Use `%matplotlib notebook` instead for interactive plots; note that with interactive plots, you'll need to use `plt.close()` to close them afterward."
   ]
  },
  {
   "cell_type": "code",
   "execution_count": 1,
   "metadata": {},
   "outputs": [],
   "source": [
    "# Array and dataframe manipulation\n",
    "import pandas as pd\n",
    "import numpy as np\n",
    "\n",
    "# Plotting interfaces, usuaully just import the pyplot module\n",
    "import matplotlib.pyplot as plt\n",
    "\n",
    "import datetime as dt\n",
    "import matplotlib.dates as dates\n",
    "\n",
    "# Seaborn:\n",
    "import seaborn as sns\n",
    "\n",
    "# Options for jupyter notebooks\n",
    "%matplotlib inline\n",
    "\n",
    "# Usually we don't need the next line, but we'll set a standard size for all our plots. \n",
    "# Make sure to run this line after the %matplotlib inline line\n",
    "import matplotlib \n",
    "matplotlib.rcParams['figure.figsize'] = (15, 8)"
   ]
  },
  {
   "cell_type": "markdown",
   "metadata": {},
   "source": [
    "Seaborn used to not be part of the Anaconda distribution, so if the above cell errors you'll need to install it.  Copy the command below into a new cell and run it (only the first time you need to use it):\n",
    "\n",
    "```\n",
    "!pip3 install seaborn\n",
    "```\n",
    "\n",
    "Note that if you're running multiple versions of Python on your system, you might need to install the package from the command line instead into the correct environment.  On mac/linux: Via the terminal, if you're using Anaconda, use `conda install seaborn`."
   ]
  },
  {
   "cell_type": "markdown",
   "metadata": {},
   "source": [
    "---\n",
    "### 2b. Loading Example Data\n",
    "Read in [earthquakes data](http://www.ldeo.columbia.edu/~felixw/NCAeqDD/).  It's on the large side, so it will take a minute to load.\n",
    "\n",
    "Note that there's a bunch of extra info at the start of the file, so we'll need to skip that.  Also, some columns are combined under a single header, so we'll manually specify the header."
   ]
  },
  {
   "cell_type": "raw",
   "metadata": {},
   "source": [
    "From the file:\n",
    "\n",
    "FORMAT DESCRIPTION:\n",
    "DATE......... Year, Month, Day\n",
    "TIME......... Hour, Minute, Second\n",
    "LAT/LON...... Location\n",
    "DEP.......... Depth [km]\n",
    "EH1/EH2/AZ... Horizontal major/minor axis [km] and azimuth of the 95% \n",
    "              relative location error ellipses. (-1 if not available).\n",
    "EV........... Vertical relative location error [km] at the 95%\n",
    "              confidence level. (-1 if not available).\n",
    "MAG.......... Magnitude, ML, as listed in the NCSN catalog. \n",
    "ID........... CUSP event ID."
   ]
  },
  {
   "cell_type": "code",
   "execution_count": 2,
   "metadata": {},
   "outputs": [
    {
     "data": {
      "text/html": [
       "<div>\n",
       "<style scoped>\n",
       "    .dataframe tbody tr th:only-of-type {\n",
       "        vertical-align: middle;\n",
       "    }\n",
       "\n",
       "    .dataframe tbody tr th {\n",
       "        vertical-align: top;\n",
       "    }\n",
       "\n",
       "    .dataframe thead th {\n",
       "        text-align: right;\n",
       "    }\n",
       "</style>\n",
       "<table border=\"1\" class=\"dataframe\">\n",
       "  <thead>\n",
       "    <tr style=\"text-align: right;\">\n",
       "      <th></th>\n",
       "      <th>YEAR</th>\n",
       "      <th>MONTH</th>\n",
       "      <th>DAY</th>\n",
       "      <th>HOUR</th>\n",
       "      <th>MINUTE</th>\n",
       "      <th>SECOND</th>\n",
       "      <th>LAT</th>\n",
       "      <th>LON</th>\n",
       "      <th>DEP</th>\n",
       "      <th>EH1</th>\n",
       "      <th>EH2</th>\n",
       "      <th>AZ</th>\n",
       "      <th>EV</th>\n",
       "      <th>MAG</th>\n",
       "      <th>ID</th>\n",
       "    </tr>\n",
       "  </thead>\n",
       "  <tbody>\n",
       "    <tr>\n",
       "      <th>0</th>\n",
       "      <td>1984</td>\n",
       "      <td>1</td>\n",
       "      <td>1</td>\n",
       "      <td>1</td>\n",
       "      <td>19</td>\n",
       "      <td>11.317</td>\n",
       "      <td>36.08781</td>\n",
       "      <td>-120.22869</td>\n",
       "      <td>10.897</td>\n",
       "      <td>0.020</td>\n",
       "      <td>0.010</td>\n",
       "      <td>96.0</td>\n",
       "      <td>0.022</td>\n",
       "      <td>1.8</td>\n",
       "      <td>1109386</td>\n",
       "    </tr>\n",
       "    <tr>\n",
       "      <th>1</th>\n",
       "      <td>1984</td>\n",
       "      <td>1</td>\n",
       "      <td>1</td>\n",
       "      <td>1</td>\n",
       "      <td>58</td>\n",
       "      <td>2.420</td>\n",
       "      <td>36.87608</td>\n",
       "      <td>-120.90669</td>\n",
       "      <td>2.661</td>\n",
       "      <td>0.071</td>\n",
       "      <td>0.018</td>\n",
       "      <td>55.0</td>\n",
       "      <td>0.421</td>\n",
       "      <td>0.0</td>\n",
       "      <td>346</td>\n",
       "    </tr>\n",
       "    <tr>\n",
       "      <th>2</th>\n",
       "      <td>1984</td>\n",
       "      <td>1</td>\n",
       "      <td>1</td>\n",
       "      <td>1</td>\n",
       "      <td>59</td>\n",
       "      <td>27.124</td>\n",
       "      <td>36.87000</td>\n",
       "      <td>-120.90889</td>\n",
       "      <td>1.592</td>\n",
       "      <td>0.110</td>\n",
       "      <td>0.016</td>\n",
       "      <td>66.0</td>\n",
       "      <td>0.727</td>\n",
       "      <td>1.5</td>\n",
       "      <td>1109389</td>\n",
       "    </tr>\n",
       "    <tr>\n",
       "      <th>3</th>\n",
       "      <td>1984</td>\n",
       "      <td>1</td>\n",
       "      <td>1</td>\n",
       "      <td>2</td>\n",
       "      <td>28</td>\n",
       "      <td>4.240</td>\n",
       "      <td>37.51546</td>\n",
       "      <td>-118.75485</td>\n",
       "      <td>7.703</td>\n",
       "      <td>0.020</td>\n",
       "      <td>0.008</td>\n",
       "      <td>37.0</td>\n",
       "      <td>0.024</td>\n",
       "      <td>1.2</td>\n",
       "      <td>1109391</td>\n",
       "    </tr>\n",
       "    <tr>\n",
       "      <th>4</th>\n",
       "      <td>1984</td>\n",
       "      <td>1</td>\n",
       "      <td>1</td>\n",
       "      <td>3</td>\n",
       "      <td>8</td>\n",
       "      <td>58.044</td>\n",
       "      <td>40.57227</td>\n",
       "      <td>-124.55933</td>\n",
       "      <td>20.407</td>\n",
       "      <td>1.009</td>\n",
       "      <td>0.083</td>\n",
       "      <td>103.0</td>\n",
       "      <td>0.080</td>\n",
       "      <td>2.0</td>\n",
       "      <td>1109392</td>\n",
       "    </tr>\n",
       "    <tr>\n",
       "      <th>5</th>\n",
       "      <td>1984</td>\n",
       "      <td>1</td>\n",
       "      <td>1</td>\n",
       "      <td>3</td>\n",
       "      <td>15</td>\n",
       "      <td>36.690</td>\n",
       "      <td>37.56065</td>\n",
       "      <td>-118.84449</td>\n",
       "      <td>10.404</td>\n",
       "      <td>0.033</td>\n",
       "      <td>0.016</td>\n",
       "      <td>38.0</td>\n",
       "      <td>0.039</td>\n",
       "      <td>1.1</td>\n",
       "      <td>1109393</td>\n",
       "    </tr>\n",
       "    <tr>\n",
       "      <th>6</th>\n",
       "      <td>1984</td>\n",
       "      <td>1</td>\n",
       "      <td>1</td>\n",
       "      <td>4</td>\n",
       "      <td>46</td>\n",
       "      <td>38.708</td>\n",
       "      <td>38.80774</td>\n",
       "      <td>-122.84761</td>\n",
       "      <td>1.824</td>\n",
       "      <td>0.009</td>\n",
       "      <td>0.005</td>\n",
       "      <td>175.0</td>\n",
       "      <td>0.011</td>\n",
       "      <td>1.1</td>\n",
       "      <td>1109395</td>\n",
       "    </tr>\n",
       "    <tr>\n",
       "      <th>7</th>\n",
       "      <td>1984</td>\n",
       "      <td>1</td>\n",
       "      <td>1</td>\n",
       "      <td>5</td>\n",
       "      <td>1</td>\n",
       "      <td>53.594</td>\n",
       "      <td>36.24686</td>\n",
       "      <td>-120.39385</td>\n",
       "      <td>6.836</td>\n",
       "      <td>0.059</td>\n",
       "      <td>0.016</td>\n",
       "      <td>106.0</td>\n",
       "      <td>0.040</td>\n",
       "      <td>1.4</td>\n",
       "      <td>357</td>\n",
       "    </tr>\n",
       "    <tr>\n",
       "      <th>8</th>\n",
       "      <td>1984</td>\n",
       "      <td>1</td>\n",
       "      <td>1</td>\n",
       "      <td>7</td>\n",
       "      <td>8</td>\n",
       "      <td>31.986</td>\n",
       "      <td>36.49920</td>\n",
       "      <td>-121.07855</td>\n",
       "      <td>13.020</td>\n",
       "      <td>0.042</td>\n",
       "      <td>0.020</td>\n",
       "      <td>100.0</td>\n",
       "      <td>0.102</td>\n",
       "      <td>1.4</td>\n",
       "      <td>1109397</td>\n",
       "    </tr>\n",
       "    <tr>\n",
       "      <th>9</th>\n",
       "      <td>1984</td>\n",
       "      <td>1</td>\n",
       "      <td>1</td>\n",
       "      <td>7</td>\n",
       "      <td>17</td>\n",
       "      <td>21.373</td>\n",
       "      <td>37.54467</td>\n",
       "      <td>-118.86678</td>\n",
       "      <td>7.245</td>\n",
       "      <td>0.042</td>\n",
       "      <td>0.015</td>\n",
       "      <td>74.0</td>\n",
       "      <td>0.043</td>\n",
       "      <td>0.7</td>\n",
       "      <td>363</td>\n",
       "    </tr>\n",
       "  </tbody>\n",
       "</table>\n",
       "</div>"
      ],
      "text/plain": [
       "   YEAR  MONTH  DAY  HOUR  MINUTE  SECOND       LAT        LON     DEP    EH1  \\\n",
       "0  1984      1    1     1      19  11.317  36.08781 -120.22869  10.897  0.020   \n",
       "1  1984      1    1     1      58   2.420  36.87608 -120.90669   2.661  0.071   \n",
       "2  1984      1    1     1      59  27.124  36.87000 -120.90889   1.592  0.110   \n",
       "3  1984      1    1     2      28   4.240  37.51546 -118.75485   7.703  0.020   \n",
       "4  1984      1    1     3       8  58.044  40.57227 -124.55933  20.407  1.009   \n",
       "5  1984      1    1     3      15  36.690  37.56065 -118.84449  10.404  0.033   \n",
       "6  1984      1    1     4      46  38.708  38.80774 -122.84761   1.824  0.009   \n",
       "7  1984      1    1     5       1  53.594  36.24686 -120.39385   6.836  0.059   \n",
       "8  1984      1    1     7       8  31.986  36.49920 -121.07855  13.020  0.042   \n",
       "9  1984      1    1     7      17  21.373  37.54467 -118.86678   7.245  0.042   \n",
       "\n",
       "     EH2     AZ     EV  MAG       ID  \n",
       "0  0.010   96.0  0.022  1.8  1109386  \n",
       "1  0.018   55.0  0.421  0.0      346  \n",
       "2  0.016   66.0  0.727  1.5  1109389  \n",
       "3  0.008   37.0  0.024  1.2  1109391  \n",
       "4  0.083  103.0  0.080  2.0  1109392  \n",
       "5  0.016   38.0  0.039  1.1  1109393  \n",
       "6  0.005  175.0  0.011  1.1  1109395  \n",
       "7  0.016  106.0  0.040  1.4      357  \n",
       "8  0.020  100.0  0.102  1.4  1109397  \n",
       "9  0.015   74.0  0.043  0.7      363  "
      ]
     },
     "execution_count": 2,
     "metadata": {},
     "output_type": "execute_result"
    }
   ],
   "source": [
    "url = 'http://www.ldeo.columbia.edu/~felixw/NCAeqDD/NCAeqDD.v201112.1.gz'\n",
    "df = pd.read_csv(\"./datasets/NCAeqDD.v201112.1\",  \n",
    "                 delim_whitespace=True, skiprows=79, na_values=[-1],\n",
    "                 names=[\"YEAR\", \"MONTH\", \"DAY\", \"HOUR\", \"MINUTE\", \"SECOND\",\n",
    "                        \"LAT\", \"LON\", \"DEP\", \"EH1\", \"EH2\", \"AZ\", \"EV\", \"MAG\", \"ID\"])\n",
    "df.head(10)"
   ]
  },
  {
   "cell_type": "markdown",
   "metadata": {},
   "source": [
    "---\n",
    "## 3. Interfaces: Pylab vs. Pyplot vs. Pandas.plot<a id='S3'></a>\n",
    "> There should be one-- and preferably only one --obvious way to do it.  \n",
    "> Zen of Python\n",
    "\n",
    "* Matplotlib (MPL) started as a port of MATLAB's state-based plotting interface (Pylab) that was then completely duplicated using a pythonic \"object oriented\" API (Pyplot).\n",
    "* Pyplot makes it easy to work with subplots and making more than 1 plot at a time.\n",
    "* Pandas replicates Matplotlib functions and adds support for labeled datasets and statistics. \n",
    "\n",
    "---\n",
    "The next 3 cells demonstrate 3 different methods for creating a scatter plot of the magnitude vs depth for the first 50 earthquake observations with the data we just loaded.     \n",
    "\n",
    "Throughout the class, we're going to use the matplotlib and pandas methods see the differences and similarities. The method (pandas or matplotlib) is marked for the cells so you can keep track of the different methods.\n",
    "\n",
    "We will mostly use matplotlib.pyplot (the 2nd method shown and the object oriented approach) directly.  `plt` is the alias for `matplotlib.pyplot` that we imported above.  See https://matplotlib.org/api/pyplot_api.html.  `plot` will make a line plot.  We use the `scatter` function for a scatter plot."
   ]
  },
  {
   "cell_type": "markdown",
   "metadata": {},
   "source": [
    "### 3.1 Pylab / Functional Interface: (Forget this Immediately)"
   ]
  },
  {
   "cell_type": "code",
   "execution_count": 3,
   "metadata": {
    "scrolled": true
   },
   "outputs": [
    {
     "data": {
      "image/png": "[encoded data removed]",
      "text/plain": [
       "<Figure size 432x288 with 1 Axes>"
      ]
     },
     "metadata": {
      "needs_background": "light"
     },
     "output_type": "display_data"
    }
   ],
   "source": [
    "plt.scatter(df.loc[:50,'MAG'], df.loc[:50,'DEP'])\n",
    "plt.xlabel('Magnitude');"
   ]
  },
  {
   "cell_type": "markdown",
   "metadata": {},
   "source": [
    "### 3.2 Preferred pyplot/object oriented approach:"
   ]
  },
  {
   "cell_type": "code",
   "execution_count": 4,
   "metadata": {},
   "outputs": [
    {
     "data": {
      "image/png": "[encoded data removed]",
      "text/plain": [
       "<Figure size 432x288 with 1 Axes>"
      ]
     },
     "metadata": {
      "needs_background": "light"
     },
     "output_type": "display_data"
    }
   ],
   "source": [
    "fig, ax = plt.subplots() # Create a named figure and axis instance\n",
    "ax.scatter(df.loc[:50,'MAG'], df.loc[:50,'DEP']) # Pylab functions are implemented as axis.method() \n",
    "ax.set_xlabel('Magnitude');"
   ]
  },
  {
   "cell_type": "markdown",
   "metadata": {},
   "source": [
    "### 3.3 Pandas pd.DataFrame.plot approach. \n",
    "Note that axis names are automatically added from dataframe columns."
   ]
  },
  {
   "cell_type": "code",
   "execution_count": 5,
   "metadata": {},
   "outputs": [
    {
     "data": {
      "text/plain": [
       "<matplotlib.axes._subplots.AxesSubplot at 0x1f824b1def0>"
      ]
     },
     "execution_count": 5,
     "metadata": {},
     "output_type": "execute_result"
    },
    {
     "data": {
      "image/png": "[encoded data removed]",
      "text/plain": [
       "<Figure size 432x288 with 1 Axes>"
      ]
     },
     "metadata": {
      "needs_background": "light"
     },
     "output_type": "display_data"
    }
   ],
   "source": [
    "df[:50].plot(x='MAG', y='DEP', kind='scatter') # df.plot has a keyword called kind that controls plot type. (bar, line, etc)"
   ]
  },
  {
   "cell_type": "markdown",
   "metadata": {},
   "source": [
    "### 3.4 Interface Notes\n",
    "* All 3 plots are similar. \n",
    "\n",
    "* In the pyplot example (3.2), we used `plt.subplots()` to return an axis and figure instance.  `plt.subplots()` is a convenience function that returns both figure and axes, instead of doing:\n",
    "```\n",
    "fig = plt.figure(figsize=(10, 3.5))\n",
    "ax = plt.subplot(1,1,1) # or plt.subplot(111) is equivalent\n",
    "```\n",
    "* Remember, when use the pyplot interface, we get to specify an axes to plot on or change properties on using the method calls on that axis i.e (`ax.plot`, `ax.scatter`, etc.) This is really useful for making multiple plots and for incrementally adding to an existing plot.  \n",
    "\n",
    "* For pandas:\n",
    "  * Line plot is the default (see https://pandas.pydata.org/pandas-docs/stable/generated/pandas.DataFrame.plot.html), but we can change that with the [`kind`](https://pandas.pydata.org/pandas-docs/stable/generated/pandas.DataFrame.plot.html) parameter.  \n",
    "\n",
    "* Also note that we can omit the `Text(0.5,0,'Magnitude')` type output by putting a ; at the end of the plotting line. (Similar to MATLAB)"
   ]
  },
  {
   "cell_type": "markdown",
   "metadata": {},
   "source": [
    "## ---\n",
    "## 4. Style Options<a id='S4'></a>\n",
    "In the next 2 examples, we will go over data aesthetics and axis options. The axis options are the same for any plot type but each plotting function has slightly different data aesthetic options. Luckily the [matptlotlib documentation](https://matplotlib.org/api/pyplot_summary.html#the-object-oriented-api) shows all the arguments for a given plot type. \n",
    "\n",
    "It can be annoying to figure out how to get everything perfect when you're learning matplotlib. Remember:\n",
    "* If you don't know how to do something, you don't have to read the documentation! All you need is a rough idea of the plot anatomy you want to manipulate and google like so: `site:stackoverflow.com matplotlib \"thing I can't do\"` or simply `matplotlib \"thing I can't do\"`\n",
    "* If you really want a label/arrow/tick mark RIGHT THERE but you have no idea how to do that in matplotlib, save the plot and add that feature in gimp/illustrator/photoshop instead of spending hours doing it in python\n",
    "\n",
    "### In matplotlib we can style the plot data as well as the visible parts of the axis:\n",
    "#### Data aesthetics:\n",
    "* color\n",
    "* size\n",
    "* scatter marker\n",
    "* edge color\n",
    "* And more for different plot types!\n",
    "\n",
    "#### Axis options:  \n",
    "* labels\n",
    "* limits\n",
    "* ticks\n",
    "* ticklabels\n",
    "* grids\n",
    "* spines\n",
    "\n",
    "<tr>\n",
    "    <td> <img src=\"Images/anatomy1.png\" alt=\"Drawing\" style=\"width: 375px;\"/> </td>\n",
    "</tr>\n",
    "\n",
    "We're aiming to make something like this plot:\n",
    "![colorbar](Images/colorbar.png)"
   ]
  },
  {
   "cell_type": "markdown",
   "metadata": {},
   "source": [
    "### 4.1 Data Aesthetics:"
   ]
  },
  {
   "cell_type": "code",
   "execution_count": 6,
   "metadata": {},
   "outputs": [
    {
     "data": {
      "image/png": "[encoded data removed]",
      "text/plain": [
       "<Figure size 720x252 with 1 Axes>"
      ]
     },
     "metadata": {
      "needs_background": "light"
     },
     "output_type": "display_data"
    }
   ],
   "source": [
    "# Data aesthetics are passed to plotting functions for each dataset as either a constant or variable with the same length\n",
    "f,ax = plt.subplots(figsize=(10, 3.5))\n",
    "ax.scatter(range(0,100,2), y=[0]*50, s=range(0,200,4), label='Array-like of same length as data');\n",
    "ax.scatter(range(0,100,2), y=[.5]*50, s=50, label='Constant aesthetic');\n",
    "ax.set_ylim([-1,1])\n",
    "\n",
    "# Let's also introduce legend, a function that will put a box with line/markers matching all the calls to plot with \n",
    "ax.legend()\n",
    "\n",
    "ax.set_title('Data aesthetics can either be constant or an iterable the same length (and order) as data');"
   ]
  },
  {
   "cell_type": "markdown",
   "metadata": {},
   "source": [
    "Marker sizes don't have to be a constant.  They can be a function of other variables.  \n",
    "We could, for instance, make each marker size a function of the magnitude (not a great idea from a visualization perspective...but we'll do a better example next)  \n",
    "We can also change the [plot marker](https://matplotlib.org/api/markers_api.html).  We can add the `marker` option to either pandas' `DataFrame.plot` or matplotlib's `scatter`.  "
   ]
  },
  {
   "cell_type": "code",
   "execution_count": 7,
   "metadata": {},
   "outputs": [
    {
     "data": {
      "image/png": "[encoded data removed]",
      "text/plain": [
       "<Figure size 432x288 with 1 Axes>"
      ]
     },
     "metadata": {
      "needs_background": "light"
     },
     "output_type": "display_data"
    }
   ],
   "source": [
    "# matplotlib\n",
    "plt.scatter(df['MAG'][:50], df['DEP'][:50], marker=\"v\", \n",
    "            s=[10+100*df['MAG'][:50]]);"
   ]
  },
  {
   "cell_type": "markdown",
   "metadata": {},
   "source": [
    "---\n",
    "\n",
    "### 4.2 A simple plot  with constant and variable data aesthetics\n",
    "\n",
    "[plot.scatter documentation](https://matplotlib.org/api/_as_gen/matplotlib.pyplot.scatter.html)"
   ]
  },
  {
   "cell_type": "code",
   "execution_count": 8,
   "metadata": {},
   "outputs": [],
   "source": [
    "# Subset only large eathquakes:\n",
    "bigones  = df[df['MAG'] >= 5]"
   ]
  },
  {
   "cell_type": "code",
   "execution_count": 9,
   "metadata": {},
   "outputs": [
    {
     "name": "stdout",
     "output_type": "stream",
     "text": [
      "<class 'matplotlib.axes._subplots.AxesSubplot'>\n"
     ]
    },
    {
     "data": {
      "image/png": "[encoded data removed]",
      "text/plain": [
       "<Figure size 432x288 with 2 Axes>"
      ]
     },
     "metadata": {
      "needs_background": "light"
     },
     "output_type": "display_data"
    }
   ],
   "source": [
    "# matplotlib\n",
    "f, ax = plt.subplots()\n",
    "\n",
    "pts = ax.scatter(bigones['MAG'], bigones['DEP'], # data\n",
    "           # s = marker size\n",
    "           s=50, \n",
    "           \n",
    "           # Marker = [s, ., o, *, v, ...]\n",
    "           marker='s', \n",
    "                 \n",
    "           # Adding an edge around the line and a bit of transparency can make it easier to distinguish overlapping   points\n",
    "           edgecolors = 'k', lw = 1, alpha = .75,\n",
    "           \n",
    "           # c = Color\n",
    "           c=bigones['YEAR'], # Here we use the year column to color the points\n",
    "           cmap=\"winter\") # color scheme: https://matplotlib.org/users/colormaps.html\n",
    "\n",
    "# Add colormap \n",
    "clrbar = plt.colorbar(pts); # Here we pass the scatter variable as the keyword argument\n",
    "print(type(clrbar.ax)) # By default, calling plt.colorbar on a collection of paths makes a new axis we can access that has the same methods as any other axis object. \n"
   ]
  },
  {
   "cell_type": "markdown",
   "metadata": {},
   "source": [
    "### Short Exercise On Data Aesthetics:\n",
    "1. Color by a different variable instead: `EV`, which is an error estimate on depth (I think).  Copy code from above, and make the changes you need.  Also change to the plasma color scheme.\n",
    "2. In the plot above: Highlight all the earthquakes in red that happened in the month you were born\n",
    "## Come back and figure this out\n"
   ]
  },
  {
   "cell_type": "code",
   "execution_count": 10,
   "metadata": {},
   "outputs": [
    {
     "name": "stdout",
     "output_type": "stream",
     "text": [
      "<class 'matplotlib.axes._subplots.AxesSubplot'>\n"
     ]
    },
    {
     "data": {
      "image/png": "[encoded data removed]",
      "text/plain": [
       "<Figure size 432x288 with 2 Axes>"
      ]
     },
     "metadata": {
      "needs_background": "light"
     },
     "output_type": "display_data"
    }
   ],
   "source": [
    "# matplotlib\n",
    "f, ax = plt.subplots()\n",
    "\n",
    "pts = ax.scatter(bigones['MAG'], bigones['DEP'], # data\n",
    "           # s = marker size\n",
    "           s=50, \n",
    "           \n",
    "           # Marker = [s, ., o, *, v, ...]\n",
    "           marker='s', \n",
    "                 \n",
    "           # Adding an edge around the line and a bit of transparency can make it easier to distinguish overlapping   points\n",
    "           edgecolors = 'k', lw = 1, alpha = .75,\n",
    "           \n",
    "           # c = Color\n",
    "           c=bigones['EV'], # Here we use the year column to color the points\n",
    "           cmap=\"plasma\") # color scheme: https://matplotlib.org/users/colormaps.html\n",
    "\n",
    "# Add colormap \n",
    "clrbar = plt.colorbar(pts); # Here we pass the scatter variable as the keyword argument\n",
    "print(type(clrbar.ax)) # By default, calling plt.colorbar on a collection of paths makes a new axis we can access that has the same methods as any other axis object. \n"
   ]
  },
  {
   "cell_type": "code",
   "execution_count": 11,
   "metadata": {},
   "outputs": [
    {
     "name": "stdout",
     "output_type": "stream",
     "text": [
      "<class 'matplotlib.axes._subplots.AxesSubplot'>\n"
     ]
    },
    {
     "data": {
      "image/png": "[encoded data removed]",
      "text/plain": [
       "<Figure size 432x288 with 2 Axes>"
      ]
     },
     "metadata": {
      "needs_background": "light"
     },
     "output_type": "display_data"
    }
   ],
   "source": [
    "\n",
    "\n",
    "# matplotlib\n",
    "f, ax = plt.subplots()\n",
    "\n",
    "pts = ax.scatter(bigones['MAG'], bigones['DEP'], # data\n",
    "           # s = marker size\n",
    "           s=50, \n",
    "           \n",
    "           # Marker = [s, ., o, *, v, ...]\n",
    "           marker='s', \n",
    "                 \n",
    "           # Adding an edge around the line and a bit of transparency can make it easier to distinguish overlapping   points\n",
    "           edgecolors = 'k', lw = 1, alpha = .75,\n",
    "           \n",
    "           # c = Color\n",
    "           c=bigones['YEAR'], # Here we use the year column to color the points\n",
    "           cmap=\"winter\") # color scheme: https://matplotlib.org/users/colormaps.html\n",
    "\n",
    "# Add colormap \n",
    "clrbar = plt.colorbar(pts); # Here we pass the scatter variable as the keyword argument\n",
    "print(type(clrbar.ax)) # By default, calling plt.colorbar on a collection of paths makes a new axis we can access that has the same methods as any other axis object. \n"
   ]
  },
  {
   "cell_type": "markdown",
   "metadata": {},
   "source": [
    "---\n",
    "### 4.3 Demonstrating Axis Options in Matplotlib\n",
    "\n",
    "Matplotlib has options for all of the plot anatomy features we described before. Let's replot the last example while demonstrating what some of those are.\n",
    "\n",
    "* Keep in mind this is an example of what's possible, not a style guide. Please do not make red cursive figure titles\n",
    "* For every `ax.set_xVAR()` there's an `ax.set_yVAR()` as well\n",
    "* Note that to edit the colorbar title, we call a method on the `clrbar` axis we saved. \n",
    "* Calling the ax.method() only changes that property on the current axis. We'll talk about `seaborn.set_style` and rcParams next.\n",
    "* Many matplotlib functions have an optional fontdict argument. I demonstrate one use of it below but a full description is available [here](https://matplotlib.org/users/text_props.html)\n"
   ]
  },
  {
   "cell_type": "code",
   "execution_count": 12,
   "metadata": {
    "scrolled": true
   },
   "outputs": [
    {
     "name": "stderr",
     "output_type": "stream",
     "text": [
      "C:\\Users\\David Delgado\\Anaconda3\\lib\\site-packages\\matplotlib\\font_manager.py:1241: UserWarning: findfont: Font family ['cursive'] not found. Falling back to DejaVu Sans.\n",
      "  (prop.get_family(), self.defaultFamily[fontext]))\n"
     ]
    },
    {
     "data": {
      "image/png": "[encoded data removed]",
      "text/plain": [
       "<Figure size 432x288 with 2 Axes>"
      ]
     },
     "metadata": {
      "needs_background": "light"
     },
     "output_type": "display_data"
    }
   ],
   "source": [
    "f, ax = plt.subplots()\n",
    "colors = sns.color_palette('Set1')\n",
    "\n",
    "pts = ax.scatter(bigones['MAG'], bigones['DEP'], # Python will ignore line breaks after a comma so I like to group my scatter, line, and color options on different lines for readability.\n",
    "                 s=50, marker='s', alpha = .75,\n",
    "                 edgecolors = 'k', lw = 1, \n",
    "                 c=bigones['YEAR'], cmap=\"winter\")\n",
    "\n",
    "# Add colormap \n",
    "clrbar = plt.colorbar(pts); # Here we pass the scatter variable as the keyword argument\n",
    "\n",
    "\n",
    "#######\n",
    "# Axis options: \n",
    "\n",
    "# Labels with some basic text options:\n",
    "ax.set_xlabel('Magnitude') # Default text settings are inferred from rcParams\n",
    "ax.set_ylabel('Depth', labelpad=20) # Adds space between Label and axis\n",
    "ax.set_title('Major Northern California Earthquakes', \n",
    "             fontsize=13, color=colors[4],  # Change size and color, 'colors[]' accesses different colors\n",
    "             fontdict={'family':'cursive'}) # Dictionary of font-properties like {'param':'val'} \n",
    "\n",
    "# Setting options on the colorbar (Note the colorbar object is NOT an axis, but it has a .ax attribute that is.)\n",
    "clrbar.ax.set_title('Year as a... color?')\n",
    "\n",
    "\n",
    "# Limits:\n",
    "ax.set_xlim([4.5,8]) # Overrides defaults\n",
    "\n",
    "\n",
    "# Spines: Removing top and right spines\n",
    "ax.spines['right'].set_visible(False)\n",
    "ax.spines['top'].set_visible(False)\n",
    "\n",
    "\n",
    "# Grid\n",
    "ax.grid(True)\n",
    "\n",
    "\n",
    "## Ticks: (Changing frequency and location can either be done with intervals or lists.\n",
    "# 1. List:\n",
    "#exact_y_ticks = [0, 10, 20,30]\n",
    "#ax.yaxis.set_ticks(exact_y_ticks)\n",
    "\n",
    "# 2. Iterator\n",
    "loc = matplotlib.ticker.MultipleLocator(base=10) \n",
    "ax.yaxis.set_major_locator(loc)\n",
    "\n",
    "# 3. Changing the tick labels to strings (Useful for categorical variables)\n",
    "ax.xaxis.set_ticks([5,6,7,8])\n",
    "ax.set_xticklabels(['five', 'six', 'Seven', '8'], rotation=45);\n",
    "\n",
    "# Hide left tickmarks but keep labels:\n",
    "ax.tick_params(left=False);\n"
   ]
  },
  {
   "cell_type": "markdown",
   "metadata": {},
   "source": [
    "## Short exercise Set 2. \n",
    "Use axis and data options to change the above plot to look like the plot at the beginning of section 4.   \n",
    "Hint: The colormap is called 'cool'\n",
    "\n",
    "\n",
    "## Exercise 2B.\n",
    "Use stackoverflow to change the grid frequency and add minorticklocators in the above plot\n",
    "## Come back and figure this out "
   ]
  },
  {
   "cell_type": "markdown",
   "metadata": {},
   "source": [
    "## Short exercise 2- Answers"
   ]
  },
  {
   "cell_type": "code",
   "execution_count": 13,
   "metadata": {},
   "outputs": [
    {
     "data": {
      "image/png": "[encoded data removed]",
      "text/plain": [
       "<Figure size 432x288 with 2 Axes>"
      ]
     },
     "metadata": {
      "needs_background": "light"
     },
     "output_type": "display_data"
    }
   ],
   "source": [
    "f, ax = plt.subplots()\n",
    "colors = sns.color_palette('Set1')\n",
    "\n",
    "pts = ax.scatter(bigones['MAG'], bigones['DEP'], # Python will ignore line breaks after a comma so I like to group my scatter, line, and color options on different lines for readability.\n",
    "                 s=50, marker='s', alpha = .75,\n",
    "                 edgecolors = 'k', lw = 1, \n",
    "                 c=bigones['YEAR'], cmap=\"cool\")\n",
    "\n",
    "# Add colormap \n",
    "clrbar = plt.colorbar(pts, ticks = [1984,2010]); # Here we pass the scatter variable as the keyword argument\n",
    "#Needed to look up ticks online (google is a beautiful thing)\n",
    "\n",
    "\n",
    "#######\n",
    "# Axis options: \n",
    "\n",
    "# Labels with some basic text options:\n",
    "ax.set_xlabel('Magnitude') # Default text settings are inferred from rcParams\n",
    "ax.set_ylabel('Depth', labelpad=20) # Adds space between Label and axis\n",
    "ax.set_title('Major Northern California Earthquakes', \n",
    "             fontsize=13,  # Change size and color, 'colors[]' accesses different colors\n",
    "             fontdict={'family':'cursive'}) # Dictionary of font-properties like {'param':'val'} \n",
    "\n",
    "# Setting options on the colorbar (Note the colorbar object is NOT an axis, but it has a .ax attribute that is.)\n",
    "\n",
    "\n",
    "# Limits:\n",
    "ax.set_xlim([4.5,8]) # Overrides defaults\n",
    "\n",
    "\n",
    "# Spines: Removing top and right spines\n",
    "ax.spines['right'].set_visible(False)\n",
    "ax.spines['top'].set_visible(False)\n",
    "\n",
    "\n",
    "# Grid\n",
    "ax.grid(True, which = 'both')\n",
    "\n",
    "\n",
    "## Ticks: (Changing frequency and location can either be done with intervals or lists.\n",
    "# 1. List:\n",
    "#exact_y_ticks = [0, 10, 20,30]\n",
    "#ax.yaxis.set_ticks(exact_y_ticks)\n",
    "\n",
    "# 2. Iterator\n",
    "loc = matplotlib.ticker.MultipleLocator(base=10) \n",
    "ax.yaxis.set_major_locator(loc)\n",
    "#ax.xaxis.set_minor_locator(loc)\n",
    "\n",
    "# 3. Changing the tick labels to strings (Useful for categorical variables)\n",
    "#ax.xaxis.set_ticks([5,6,7,8])\n",
    "#ax.set_xticklabels(['five', 'six', 'Seven', '8'], rotation=45);\n",
    "\n",
    "# Hide left tickmarks but keep labels:\n",
    "ax.tick_params(left=False);"
   ]
  },
  {
   "cell_type": "markdown",
   "metadata": {},
   "source": [
    "---\n",
    "## 5. Styles and Context Presets in Seaborn & Matplotlib<a id='S5'></a>\n",
    "\n",
    "* Manually setting style options on a per axis basis is super annoying. There are several ways around this.\n",
    "* Seaborn has a number of pre-built styles and contexts that can save a lot of time.\n",
    "* **Context** controls readability by changing text and plot element size \n",
    "* `sns.set(context)` changes context between: **\"notebook\", “paper”, “talk”, and “poster”**\n",
    "* **Style** controls background color, appearance of grids, ticks and spines\n",
    "* `sns.set_style()` switches the axis style more quickly then manually setting evreything. Changes will apply to all plots made afterwards, although options can still be specified. Options are: **\"whitegrid\", \"darkgrid\", \"white\", \"dark\", \"ticks\"**\n",
    "* You can change the default style of matplotlib plots.  A list of available styles:\n",
    "\n",
    "Matplotlib has it's own styles as well based on things like *ggplot* and *538* graph settings. You can see examples at the end of this section.\n",
    "\n"
   ]
  },
  {
   "cell_type": "markdown",
   "metadata": {},
   "source": [
    "### 5.1 Seaborn Contexts"
   ]
  },
  {
   "cell_type": "code",
   "execution_count": 14,
   "metadata": {},
   "outputs": [
    {
     "data": {
      "image/png": "[encoded data removed]",
      "text/plain": [
       "<Figure size 432x288 with 4 Axes>"
      ]
     },
     "metadata": {
      "needs_background": "light"
     },
     "output_type": "display_data"
    }
   ],
   "source": [
    "# Plot Function\n",
    "def sinplot(flip=1):\n",
    "    x = np.linspace(0, 14, 100)\n",
    "    for i in range(1, 7):\n",
    "        plt.plot(x, np.sin(x + i * .5) * (7 - i) * flip)\n",
    "\n",
    "# Possible contexts\n",
    "contexts = ['paper', 'notebook', 'talk', 'poster']\n",
    "\n",
    "ind=1\n",
    "for context in contexts: # Iterate \n",
    "    plt.subplot(2,2,ind) # Note using Ind here to change were we plot the function on the subplot\n",
    "    sns.set(context)\n",
    "    sinplot()\n",
    "    plt.gca().set_title(context)  # plt.gca() = GetCurrentAxis. \n",
    "    # You can assign the axis to a new variable or set axis options on the fly\n",
    "    ind+=1\n",
    "\n",
    "# Adjust horizontal spacing so that labels don't overlap\n",
    "plt.subplots_adjust(hspace=.4)"
   ]
  },
  {
   "cell_type": "markdown",
   "metadata": {},
   "source": [
    "### 5.2 Seaborn Styles"
   ]
  },
  {
   "cell_type": "code",
   "execution_count": 15,
   "metadata": {},
   "outputs": [
    {
     "data": {
      "image/png": "[encoded data removed]",
      "text/plain": [
       "<Figure size 432x288 with 5 Axes>"
      ]
     },
     "metadata": {},
     "output_type": "display_data"
    }
   ],
   "source": [
    "seaborn_styles = [\"whitegrid\", \"darkgrid\", \"white\", \"dark\", \"ticks\"]\n",
    "sns.set('notebook')\n",
    "\n",
    "ind=1\n",
    "for style in seaborn_styles:\n",
    "    sns.set_style(style)\n",
    "    plt.subplot(3,2,ind)\n",
    "    sinplot()\n",
    "    plt.gca().set_title(style)  \n",
    "    ind+=1\n",
    "\n",
    "plt.subplots_adjust(hspace=.5)"
   ]
  },
  {
   "cell_type": "markdown",
   "metadata": {},
   "source": [
    "### 5.3 Matplotlib Style sheets\n",
    "\n",
    "* Matplotlib has its own style presets that are often combinations of seaborn styles, contexts, and colormaps without the need to import the seaborn library, or emulate other plotting styles like 538, ggplot, etc.\n",
    "* You can see a gallery of what plots look like in the styles at https://tonysyu.github.io/raw_content/matplotlib-style-gallery/gallery.html\n",
    "* You can also write your own styles: https://matplotlib.org/users/style_sheets.html\n"
   ]
  },
  {
   "cell_type": "code",
   "execution_count": 16,
   "metadata": {},
   "outputs": [
    {
     "name": "stdout",
     "output_type": "stream",
     "text": [
      "['bmh', 'classic', 'dark_background', 'fast', 'fivethirtyeight', 'ggplot', 'grayscale', 'seaborn-bright', 'seaborn-colorblind', 'seaborn-dark-palette', 'seaborn-dark', 'seaborn-darkgrid', 'seaborn-deep', 'seaborn-muted', 'seaborn-notebook', 'seaborn-paper', 'seaborn-pastel', 'seaborn-poster', 'seaborn-talk', 'seaborn-ticks', 'seaborn-white', 'seaborn-whitegrid', 'seaborn', 'Solarize_Light2', 'tableau-colorblind10', '_classic_test']\n"
     ]
    }
   ],
   "source": [
    "print(matplotlib.style.available)"
   ]
  },
  {
   "cell_type": "markdown",
   "metadata": {},
   "source": [
    "* To just affect a single plot without changing future plots, indent the plot call in a `with plt.style.context(\"style\"):` block \n",
    "* Seaborn styles can be accessed analogously using `with sns.axes_style(\"style\")`"
   ]
  },
  {
   "cell_type": "code",
   "execution_count": 17,
   "metadata": {},
   "outputs": [
    {
     "data": {
      "image/png": "[encoded data removed]",
      "text/plain": [
       "<Figure size 432x288 with 2 Axes>"
      ]
     },
     "metadata": {},
     "output_type": "display_data"
    }
   ],
   "source": [
    "with plt.style.context(('fivethirtyeight')):\n",
    "    pts = plt.scatter(bigones['MAG'], bigones['DEP'], # data\n",
    "            s=50, # marker size\n",
    "            cmap=\"cool\", # color scheme: https://matplotlib.org/users/colormaps.html\n",
    "            c=1.0*(bigones['YEAR']-1983)/28) # specific color for each point (range between 0 and 1)\n",
    "    plt.ylabel(\"Depth\")\n",
    "    plt.xlabel(\"Magnitude\")\n",
    "    plt.title(\"Large Earthquakes\")\n",
    "    clrbar = plt.colorbar(pts, ticks=[1.0/28, 27.0/28]) # data takes values from 1983=1/28, 2010=27/28 (none in 2011)\n",
    "    clrbar.ax.set_yticklabels(['1984', '2010'])"
   ]
  },
  {
   "cell_type": "markdown",
   "metadata": {},
   "source": [
    "---\n",
    "## Introducing Other Plot Types:\n",
    "We don't have to use the scatter function. These are some common plot types supported in matplotlib or seaborn and what they are good for:\n",
    "\n",
    "### Linear relationships:\n",
    "* scatter\n",
    "* line  \n",
    "### Categorical data:\n",
    "* bar\n",
    "* area\n",
    "* pie (Don't use these, they are hard to read, & bar charts can be more information dense)\n",
    "### Distributions:\n",
    "* histogram\n",
    "* kernel plots\n",
    "* violin (Use these instead of histograms to get published in high impact journals)\n",
    "\n"
   ]
  },
  {
   "cell_type": "code",
   "execution_count": null,
   "metadata": {},
   "outputs": [],
   "source": [
    "# Loading some data:\n",
    "diamonds = sns.load_dataset(\"diamonds\")\n",
    "diamonds.head()"
   ]
  },
  {
   "cell_type": "code",
   "execution_count": null,
   "metadata": {},
   "outputs": [],
   "source": [
    "# Basic Plots 1\n",
    "with plt.rc_context({'figure.figsize' : (8.0, 3.5)}):  # Locally set options for just one figure:\n",
    "\n",
    "    # Make NxM array of subplots (don't worry about this for now )\n",
    "    f,axs = plt.subplots(1,2)\n",
    "    axs.ravel() # Flatten the array\n",
    "    \n",
    "    # Histogram Example:\n",
    "    axs[0].hist(diamonds['carat'], bins=25, density=True)\n",
    "    axs[0].set_xlabel('Carat')\n",
    "    axs[0].set_ylabel('Density');\n",
    "    axs[0].set_title('Simple histogram of Carat sizes')\n",
    "    \n",
    "    # Pie Chart Example:\n",
    "    #Use group by function to sort data\n",
    "    groups = diamonds.groupby('cut')\n",
    "    counts = [len(x[1]) for x in groups ] # Grabs the amount in each group\n",
    "    names = [x[0] for x in groups] # Grabs the labels of the groupby method\n",
    "    axs[1].pie(counts, labels=names, autopct='%1.1f%%', shadow=True, startangle=90) #Notice house were using axs[1]\n",
    "    axs[1].set_title('Percentage of Diamonds by Cut')\n",
    "    "
   ]
  },
  {
   "cell_type": "code",
   "execution_count": null,
   "metadata": {},
   "outputs": [],
   "source": [
    "# Violin plots show distributions + categorical data\n",
    "\n",
    "iris_data = sns.load_dataset('iris')\n",
    "with plt.rc_context({'figure.figsize' : (10.0, 6.5)}):  # Locally set options for just one figure:\n",
    "    ax = sns.violinplot(x=\"species\", y=\"sepal_length\", data=iris_data, palette=\"Set2\", cut=0)"
   ]
  },
  {
   "cell_type": "markdown",
   "metadata": {},
   "source": [
    "---\n",
    "## 6. Subplot and Figure Options<a id='S6'></a>\n",
    "We used the subplot function above, but not to create multiple plots.  Let's actually make more than one. \n",
    "\n",
    "The syntax we've been using to get axes is `f,ax = plt.subplots()`. In this example, we are going to add arguments to return more than 1 axis.  \n",
    "\n",
    "We can pass (nrows, ncols, index) to `plt.subplots` to create an array of axes and access the one located at the index location.\n",
    "\n",
    "\n",
    "![multiple](Images/twoplots.png)\n",
    "\n",
    "The marker/line type specification shortcuts used below can be seen at https://matplotlib.org/api/pyplot_api.html#matplotlib.pyplot.plot"
   ]
  },
  {
   "cell_type": "code",
   "execution_count": null,
   "metadata": {},
   "outputs": [],
   "source": [
    "# Function and arrays to generate some data\n",
    "def f(t):\n",
    "    return np.exp(-t) * np.cos(2*np.pi*t)\n",
    "\n",
    "t1 = np.arange(0.0, 5.0, 0.1)\n",
    "t2 = np.arange(0.0, 5.0, 0.02)\n",
    "\n",
    "# create a figure\n",
    "plt.figure(1)\n",
    "plt.subplot(211) # 211 = 2 rows, 1 column, first plot\n",
    "plt.plot(t1, f(t1), 'bo', \n",
    "         t2, f(t2), 'k') # bo = blue, o marker\n",
    "\n",
    "plt.subplot(212) # 212 = 2 rows, 1 column, second plot\n",
    "plt.plot(t2, np.cos(2*np.pi*t2), 'r--'); # r-- = red, dashed line"
   ]
  },
  {
   "cell_type": "markdown",
   "metadata": {},
   "source": [
    "---\n",
    "## 7. Legends<a id='S7'></a>\n",
    "\n",
    "* Legends can usually be handled by adding a `label = 'str'` keyword argument to a matplotib.pyplot method call and then calling `ax.legend()` afterwards. Basics:\n",
    "    * `ax.legend()` looks for labeled data plotted on a given axis and adds a legend to that axis. \n",
    "    * `ax.legend()` has a `loc=` keyword that handles placement that takes 0-9 for default placements or a tuple of x,y coords\n",
    "* If this is insufficient, there are methods to directly make [custom legends](https://matplotlib.org/gallery/text_labels_and_annotations/custom_legends.html)\n",
    "* This is often useful for multiple plots or when there are multiple data aesthetics to explain at once\n",
    "\n",
    "* Legends are also objects and we can move them outside the axes if we want. If legends or other plot options made this way are cut off when saving, you can save the legend as a variable and manually add them when you save figures using `fig.savefig('path_to_file', bbox_extra_artists=(lgd,), bbox_inches='tight')`\n"
   ]
  },
  {
   "cell_type": "code",
   "execution_count": null,
   "metadata": {},
   "outputs": [],
   "source": [
    "# Quick legend example with the iris dataset:\n",
    "iris_data = sns.load_dataset('iris')\n",
    "iris_data.head()"
   ]
  },
  {
   "cell_type": "markdown",
   "metadata": {},
   "source": [
    "### 7.1 Basic Legend Example"
   ]
  },
  {
   "cell_type": "code",
   "execution_count": null,
   "metadata": {},
   "outputs": [],
   "source": [
    "# Standard legend creation and placement example:\n",
    "colors = sns.color_palette('Set1')\n",
    "spec_list = list(set(iris_data['species'])) #List to break data down by \n",
    "\n",
    "fig,axs = plt.subplots(1,2)\n",
    "axs= axs.ravel() # Ravel flattens an array into a 1D iterable\n",
    "\n",
    "for species in spec_list:  # Sets contain each unique value one time\n",
    "    species_subset = iris_data[iris_data['species'] == species]\n",
    "    axs[0].scatter(species_subset['sepal_length'], species_subset['sepal_width'], label=species, marker='s')\n",
    "    axs[1].scatter(species_subset['petal_length'], species_subset['petal_width'], label=species)\n",
    "    \n",
    "axs[0].legend(frameon=True, loc=0) # 0 = best, MPL tries to find a place where it doesn't overlap data\n",
    "axs[1].legend(frameon= False, loc=4); # 4 = lower right, can manually set to any corner or midpoint using 1-9. Removed legend box.\n"
   ]
  },
  {
   "cell_type": "markdown",
   "metadata": {},
   "source": [
    "### 7.2 More legend customization "
   ]
  },
  {
   "cell_type": "code",
   "execution_count": null,
   "metadata": {},
   "outputs": [],
   "source": [
    "# A bit more customization:\n",
    "from matplotlib.patches import Patch\n",
    "from matplotlib.lines import Line2D\n",
    "\n",
    "fig,axs = plt.subplots(1,2)\n",
    "axs= axs.ravel() # Ravel flattens an array into a 1D iterable\n",
    "\n",
    "for species in list(set(iris_data['species'])):  # Sets contain each unique value one time\n",
    "    species_subset = iris_data[iris_data['species'] == species]\n",
    "    axs[0].scatter(species_subset['sepal_length'], species_subset['sepal_width'], label=species, marker='s')\n",
    "    axs[1].scatter(species_subset['petal_length'], species_subset['petal_width'], label=species)\n",
    "\n",
    "    \n",
    "# Here we make custom legends using \n",
    "species_legend_elements = [Patch(facecolor=colors[0], label=spec_list[0]),\n",
    "                           Patch(facecolor=colors[1], label=spec_list[1]),\n",
    "                           Patch(facecolor=colors[2], label=spec_list[2]),\n",
    "                          ]\n",
    "\n",
    "anatomy_legend_elements = [Line2D([0], [0], marker='s', color='w', label='Sepal',\n",
    "                          markerfacecolor='k', markersize=10),\n",
    "                          Line2D([0], [0], marker='o', color='w', label='Petal',\n",
    "                          markerfacecolor='k', markersize=10)]\n",
    "\n",
    "species_legend = axs[0].legend(handles=species_legend_elements, loc=(2.25,.65), title='Species', frameon=True)\n",
    "anatomy_legend = axs[1].legend(handles=anatomy_legend_elements, loc=(1.05,.35), title='Anatomy Type',frameon=True)\n",
    "\n",
    "\n",
    "# Saving:\n",
    "fig.savefig('./legend_cut_off.png') # Will cut off objects outside the axes.\n",
    "# Add extra artists explicitly when saving:\n",
    "fig.savefig('./legend_example.png', bbox_extra_artists=(species_legend,anatomy_legend), bbox_inches='tight')"
   ]
  },
  {
   "cell_type": "markdown",
   "metadata": {},
   "source": [
    "---\n",
    "## 8. Some Matplotlib Features: Layered Plots, Annotations, MathTex<a id='S8'></a>"
   ]
  },
  {
   "cell_type": "markdown",
   "metadata": {},
   "source": [
    "### 8.1 Layered plots\n",
    "* In this example, we plot a histogram of some random values with `randn` as well as a theoretical fit to the data.\n",
    "* `numpy.random.randn` generates normally distributed random numbers\n",
    "* `scipy.stats.norm.pdf` fits normal probability distributions to data. \n",
    "* By saving bins (the output of the histogram plot) we can pass to the pdf function to estimate the true probability distribution.\n",
    "\n",
    "![normal](Images/normal.png)\n",
    "\n",
    "Info on named colors at https://matplotlib.org/examples/color/named_colors.html"
   ]
  },
  {
   "cell_type": "code",
   "execution_count": null,
   "metadata": {},
   "outputs": [],
   "source": [
    "from scipy.stats import norm\n",
    "from numpy.random import randn\n",
    "\n",
    "# plot with matplotlib\n",
    "\n",
    "# keep the values returned from calling the histogram plot to use with the legend and next plot\n",
    "n, bins, patches = plt.hist(randn(1000), bins=40, \n",
    "                            density=True, \n",
    "                            color=\"lightblue\")\n",
    "\n",
    "# add another plot on top of the histogram\n",
    "# save the value here too so we can use it for the legend\n",
    "l, = plt.plot(bins, norm.pdf(bins, 0.0, 1.0), \n",
    "              'g--', linewidth=3)\n",
    "## comma above in l, means unpack the returned tuple to give you just the line object\n",
    "\n",
    "plt.legend([l, patches[0]], ['theory', 'data']);"
   ]
  },
  {
   "cell_type": "markdown",
   "metadata": {},
   "source": [
    "### 8.2 Annotating Plots\n",
    "We'll use the same earthquake data but as noted it's rather large.  Instead we can do something called a \"downsampling\" where we group data by a certain feature.  Think of it like sorting the data into a histogram such as above.  Since we have time series data, we can sort by the number of earth earthquakes per day.  To do this though, we need a datetime stamp for the python function `.resample()`.  We'll discuss this time series format in the next section, but for now think about it as a way to more easily sort this huge amount of data. "
   ]
  },
  {
   "cell_type": "code",
   "execution_count": null,
   "metadata": {},
   "outputs": [],
   "source": [
    "df['datetime'] = pd.to_datetime(df[df.columns[range(6)]]) ## first 6 columns are year, month, day, hour, min, sec\n",
    "df = df.set_index(\"datetime\")\n",
    "df.head()"
   ]
  },
  {
   "cell_type": "code",
   "execution_count": null,
   "metadata": {
    "scrolled": true
   },
   "outputs": [],
   "source": [
    "# pandas with matplotlib adjustments\n",
    "counts = df.resample('D').count()['ID'];\n",
    "counts.plot() ## plot the Series directly\n",
    "plt.title(\"Daily Earthquake Count for Northern California\")\n",
    "plt.ylabel(\"Number of Earthquakes\");"
   ]
  },
  {
   "cell_type": "markdown",
   "metadata": {},
   "source": [
    "#### Then annotate one of the spikes:"
   ]
  },
  {
   "cell_type": "code",
   "execution_count": null,
   "metadata": {},
   "outputs": [],
   "source": [
    "counts.plot() \n",
    "plt.title(\"Daily Earthquake Count for Northern California\")\n",
    "plt.ylabel(\"Number of Earthquakes\")\n",
    "plt.text(dt.datetime(1998,3,1), 925, \"Big One!\"); # use date to position on x-axis\n"
   ]
  },
  {
   "cell_type": "markdown",
   "metadata": {},
   "source": [
    "#### Or with an arrow"
   ]
  },
  {
   "cell_type": "code",
   "execution_count": null,
   "metadata": {},
   "outputs": [],
   "source": [
    "counts.plot() \n",
    "plt.title(\"Daily Earthquake Count for Northern California\")\n",
    "plt.ylabel(\"Number of Earthquakes\")\n",
    "plt.annotate(\"Big One!\", xy=(dt.datetime(1998,3,1), 925),\n",
    "             xytext=(dt.datetime(2000,3,1), 800),\n",
    "             arrowprops=dict(facecolor='black', shrink=0.01, width=.1,\n",
    "                             headwidth=5));"
   ]
  },
  {
   "cell_type": "markdown",
   "metadata": {},
   "source": [
    "### 8.3 Mathtext and Mathematical Functions \n",
    "\n",
    "Let's make a plot like the following:\n",
    "\n",
    "![mathplot](Images/mathfunction.png) \n",
    "\n",
    "This example intrdouces some new things, namely:\n",
    "* Moving the spines to be 0 centered\n",
    "* Using mathtext to make the pi symbol\n",
    "* Annotating plots with lines and text\n",
    "\n",
    "For math text used in the labels, see https://matplotlib.org/users/mathtext.html\n",
    "\n",
    "#### We'll take it step by step:"
   ]
  },
  {
   "cell_type": "code",
   "execution_count": null,
   "metadata": {},
   "outputs": [],
   "source": [
    "# generate data\n",
    "sns.set_style('ticks')\n",
    "x = np.arange(-2*np.pi, 2*np.pi, 0.01)\n",
    "y = np.sin(x)\n",
    "\n",
    "# create empty plot\n",
    "fig = plt.figure(figsize=(4, 5));\n",
    "ax = fig.add_subplot(111);\n",
    "# basic plot\n",
    "# plot the sin wave\n",
    "ax.plot(x, y,\n",
    "        linewidth=3, # line thickness\n",
    "        alpha=0.3); # line opacity -- just setting so we can see the labels and exis through it"
   ]
  },
  {
   "cell_type": "markdown",
   "metadata": {},
   "source": [
    "#### Adjust spines to look like a mathemetical graph: "
   ]
  },
  {
   "cell_type": "code",
   "execution_count": null,
   "metadata": {},
   "outputs": [],
   "source": [
    "fig = plt.figure(figsize=(4, 5));\n",
    "ax = fig.add_subplot(111);\n",
    "ax.plot(x, y,linewidth=3, alpha=0.3);\n",
    "\n",
    "# deal with bounding box \n",
    "# lose top and right\n",
    "# move bottom and left to the center like a mathematical graph\n",
    "ax.spines['top'].set_color('none')\n",
    "ax.spines['right'].set_color('none')\n",
    "ax.spines['left'].set_position('center')\n",
    "ax.spines['bottom'].set_position('center')\n",
    "\n",
    "ax.xaxis.set_ticks_position('bottom')\n",
    "ax.yaxis.set_ticks_position('left')\n"
   ]
  },
  {
   "cell_type": "markdown",
   "metadata": {},
   "source": [
    "#### Annotate with reference lines:"
   ]
  },
  {
   "cell_type": "code",
   "execution_count": null,
   "metadata": {},
   "outputs": [],
   "source": [
    "# plot the reference lines\n",
    "fig = plt.figure(figsize=(4, 5));\n",
    "ax = fig.add_subplot(111);\n",
    "ax.plot(x, y,linewidth=3, alpha=0.3);\n",
    "ax.spines['top'].set_color('none')\n",
    "ax.spines['right'].set_color('none')\n",
    "ax.spines['left'].set_position('center')\n",
    "ax.spines['bottom'].set_position('center')\n",
    "ax.xaxis.set_ticks_position('bottom')\n",
    "ax.yaxis.set_ticks_position('left')\n",
    "\n",
    "\n",
    "ax.plot([0, np.pi/2], [1, 1], ls=\"--\", \n",
    "        color=\"green\", alpha=0.5)\n",
    "ax.plot([np.pi/2, np.pi/2], [1, 0], \n",
    "        ls=\"--\", color=\"red\", alpha=0.5);\n"
   ]
  },
  {
   "cell_type": "markdown",
   "metadata": {},
   "source": [
    "#### Add mathtext: \n",
    "(See above for link to documentation, but a lot of common math notation like subscripts, superscripts, integrals, etc. are available)"
   ]
  },
  {
   "cell_type": "code",
   "execution_count": null,
   "metadata": {},
   "outputs": [],
   "source": [
    "fig = plt.figure(figsize=(4, 5));\n",
    "ax = fig.add_subplot(111);\n",
    "ax.plot(x, y,linewidth=3, alpha=0.3);\n",
    "ax.spines['top'].set_color('none')\n",
    "ax.spines['right'].set_color('none')\n",
    "ax.spines['left'].set_position('center')\n",
    "ax.spines['bottom'].set_position('center')\n",
    "ax.xaxis.set_ticks_position('bottom')\n",
    "ax.yaxis.set_ticks_position('left')\n",
    "ax.plot([0, np.pi/2], [1, 1], ls=\"--\", \n",
    "        color=\"green\", alpha=0.5)\n",
    "ax.plot([np.pi/2, np.pi/2], [1, 0], \n",
    "        ls=\"--\", color=\"red\", alpha=0.5);\n",
    "\n",
    "# axis limits\n",
    "ax.set_xlim(-2*np.pi, 2*np.pi)\n",
    "ax.set_ylim(-1.5, 1.5)\n",
    "\n",
    "# axis labels\n",
    "xticker = np.arange(-np.pi-np.pi/2, np.pi+np.pi, np.pi/2)\n",
    "xlabels = [r\"$\\frac{-3\\pi}{2}$\", r\"${-\\pi}$\",\n",
    "           r\"$\\frac{-\\pi}{2}$\",\"\",r\"$\\frac{pi}{2}$\",\n",
    "           r\"${\\pi}$\",r\"$\\frac{3\\pi}{2}$\"]\n",
    "\n",
    "ax.set_xticks(xticker)\n",
    "ax.set_xticklabels(xlabels, size=17)\n",
    "\n",
    "yticker = np.arange(-1, 2, 1)\n",
    "ax.set_yticks(yticker);\n"
   ]
  },
  {
   "cell_type": "markdown",
   "metadata": {},
   "source": [
    "#### Text annotation:"
   ]
  },
  {
   "cell_type": "code",
   "execution_count": null,
   "metadata": {},
   "outputs": [],
   "source": [
    "fig = plt.figure(figsize=(4, 5));\n",
    "ax = fig.add_subplot(111);\n",
    "ax.plot(x, y,linewidth=3, alpha=0.3);\n",
    "ax.spines['top'].set_color('none')\n",
    "ax.spines['right'].set_color('none')\n",
    "ax.spines['left'].set_position('center')\n",
    "ax.spines['bottom'].set_position('center')\n",
    "ax.xaxis.set_ticks_position('bottom')\n",
    "ax.yaxis.set_ticks_position('left')\n",
    "ax.plot([0, np.pi/2], [1, 1], ls=\"--\", \n",
    "        color=\"green\", alpha=0.5)\n",
    "ax.plot([np.pi/2, np.pi/2], [1, 0], \n",
    "        ls=\"--\", color=\"red\", alpha=0.5);\n",
    "ax.set_xlim(-2*np.pi, 2*np.pi)\n",
    "ax.set_ylim(-1.5, 1.5)\n",
    "xticker = np.arange(-np.pi-np.pi/2, np.pi+np.pi, np.pi/2)\n",
    "xlabels = [r\"$\\frac{-3\\pi}{2}$\", r\"${-\\pi}$\",\n",
    "           r\"$\\frac{-\\pi}{2}$\",\"\",r\"$\\frac{pi}{2}$\",\n",
    "           r\"${\\pi}$\",r\"$\\frac{3\\pi}{2}$\"]\n",
    "ax.set_xticks(xticker)\n",
    "ax.set_xticklabels(xlabels, size=17)\n",
    "yticker = np.arange(-1, 2, 1)\n",
    "ax.set_yticks(yticker);\n",
    "\n",
    "# annotation of function line\n",
    "ax.text(np.pi, 1.1, \"y=sin(x)\");"
   ]
  },
  {
   "cell_type": "markdown",
   "metadata": {},
   "source": [
    "---\n",
    "## 9. Working with Dates, Aggregating, & Other Nifty Pandas Tricks<a id='S9'></a>\n",
    "Matplotlib can understand dates as a datatype and automatically adjust the axis labels to handle dates.  \n",
    "For this example, we will use the groupby feature of pandas to group observations by a daterange.\n",
    "Key points:\n",
    "* **groupby** groups dataframe observations by the values in a particular column and returns an iterable of tuples composed of the groupname and a dataframe for each group.\n",
    "\n",
    "\n",
    "* **datetime** objects and indices can be parsed using date ranges and **resampled** by pandas into day, month, or year ranges.\n",
    "* The datetime object represented by the string '2018-06-12 15:07:01' has the format '%Y-%m-%d %H-%M:%S' (This is what we talked about in the earlier section)\n",
    "* You can convert from strings to datetimes and vice versa using `datetime.datetime.strptime(string, format)` and `datetime.datetime.strftime(datetime, format)`\n",
    "\n",
    "\n",
    "* When plotting data with date as the x-axis, use `ax.xaxis_date()` to automatically label the axis correctly\n",
    "* We can alter the text style of a date axis using the `ax.xaxis.set_major_formatter(dates.DateFormatter('%format'))` syntax.\n",
    "\n",
    "\n",
    "### Monthly Earthquake Counts\n",
    "We will make the below plot of monthly earthquake counts for the last 4 years of the data.\n",
    "\n",
    "![monthly](Images/monthly_earthquake.png)"
   ]
  },
  {
   "cell_type": "markdown",
   "metadata": {},
   "source": [
    "Make a proper date column (instead of the current multiple columns for each part of the date) in the data frame so that we can plot by date.  Setting the new date column as an index lets us group by month easily."
   ]
  },
  {
   "cell_type": "code",
   "execution_count": null,
   "metadata": {},
   "outputs": [],
   "source": [
    "df['datetime'] = pd.to_datetime(df[df.columns[range(6)]]) ## first 6 columns are year, month, day, hour, min, sec\n",
    "df = df.set_index(\"datetime\")"
   ]
  },
  {
   "cell_type": "code",
   "execution_count": null,
   "metadata": {
    "scrolled": false
   },
   "outputs": [],
   "source": [
    "df.head()"
   ]
  },
  {
   "cell_type": "markdown",
   "metadata": {},
   "source": [
    "If you don't have data in this format, you can use the [strptime](http://strftime.org/) function in the datetime module:"
   ]
  },
  {
   "cell_type": "code",
   "execution_count": null,
   "metadata": {},
   "outputs": [],
   "source": [
    "?dt.datetime.strptime()"
   ]
  },
  {
   "cell_type": "code",
   "execution_count": null,
   "metadata": {},
   "outputs": [],
   "source": [
    "date_from_string = dt.datetime.strptime('2000-01-01', '%Y-%m-%d' )\n",
    "print(date_from_string)\n",
    "print(df.index[0])"
   ]
  },
  {
   "cell_type": "markdown",
   "metadata": {},
   "source": [
    "Plot number of earthquakes by month with a bar chart, limit to recent years (the last 48 observations are the last 4 years (4 years * 12 months).  We need to use a grouper to tell pandas how to group the data by month."
   ]
  },
  {
   "cell_type": "code",
   "execution_count": null,
   "metadata": {},
   "outputs": [],
   "source": [
    "df.groupby(pd.Grouper(freq='M')).count().head()"
   ]
  },
  {
   "cell_type": "code",
   "execution_count": null,
   "metadata": {},
   "outputs": [],
   "source": [
    "counts = df.groupby(pd.Grouper(freq='M')).count()['ID'][-48:] # do the aggregation by month\n",
    "counts.head()"
   ]
  },
  {
   "cell_type": "markdown",
   "metadata": {},
   "source": [
    "If we tried to just use the month variable, we'd end up with aggregates across month numbers:"
   ]
  },
  {
   "cell_type": "code",
   "execution_count": null,
   "metadata": {},
   "outputs": [],
   "source": [
    "df.groupby(df.MONTH).count()['ID'][-48:]"
   ]
  },
  {
   "cell_type": "markdown",
   "metadata": {},
   "source": [
    "Another way to get the counts is to use `resample()` instead of a grouper\n",
    "This is the most intuitive way to do it IMO if you have a datetime index already but as you can see, there are many options:"
   ]
  },
  {
   "cell_type": "code",
   "execution_count": null,
   "metadata": {},
   "outputs": [],
   "source": [
    "df.loc['2008-01-01':'2012-01-01'].resample('M').count()['ID'].head()"
   ]
  },
  {
   "cell_type": "code",
   "execution_count": null,
   "metadata": {},
   "outputs": [],
   "source": [
    "# matplotlib\n",
    "fig, ax = plt.subplots(figsize=(10, 3.5)) # specify a plot size, use subplots to get axes because we'll need it later\n",
    "ax.bar(counts.index, counts, width=15) # if we don't set the bar width, some bars might not be visible with this many\n",
    "ax.xaxis_date()\n",
    "plt.title(\"Monthly Earthquake Count for Northern California\")\n",
    "plt.ylabel(\"Number of Earthquakes\");"
   ]
  },
  {
   "cell_type": "markdown",
   "metadata": {},
   "source": [
    "### 9.2 Hourly Counts on a Busy Day\n",
    "\n",
    "Let's plot hourly earthquakes on a busy day, October 18, 1989 using the same approach of:\n",
    "\n",
    "1. resample the datetime index\n",
    "2. bar plot \n",
    "\n",
    "![hourly](Images/hourly_earthquakes.png)"
   ]
  },
  {
   "cell_type": "code",
   "execution_count": null,
   "metadata": {},
   "outputs": [],
   "source": [
    "counts_hourly = df.loc['1989-10-18'].groupby(pd.Grouper(freq='H')).count()['ID']\n",
    "\n",
    "#Another way to do the above:\n",
    "df.loc['1989-10-18'].resample('1H').count()['ID']; # '1H' stands for each hour\n",
    "\n",
    "counts_hourly.head() "
   ]
  },
  {
   "cell_type": "markdown",
   "metadata": {},
   "source": [
    "We can plot using the new resampled index and the hourly counts.  "
   ]
  },
  {
   "cell_type": "code",
   "execution_count": null,
   "metadata": {},
   "outputs": [],
   "source": [
    "#matplotlib\n",
    "\n",
    "fig,ax = plt.subplots()\n",
    "\n",
    "ax.bar(counts_hourly.index, \n",
    "        counts_hourly, width=.03, color='g', align='center')\n",
    "ax.xaxis.set_major_formatter(dates.DateFormatter('%H'));"
   ]
  },
  {
   "cell_type": "markdown",
   "metadata": {},
   "source": [
    "Looks OK, but we can make it nicer.  Also let's export the plot as pdf (type is determined by file name extension).  With `%matplotlib inline` turned on, the save statement needs to be in the same cell of the notebook with the plot creation to work."
   ]
  },
  {
   "cell_type": "code",
   "execution_count": null,
   "metadata": {},
   "outputs": [],
   "source": [
    "#matplotlib\n",
    "fig, ax = plt.subplots() ## in one line instead of two above, just to show this\n",
    "plt.bar(counts_hourly.index, counts_hourly, width=.03, \n",
    "        color='g', align='center')\n",
    "ax.xaxis.set_major_formatter(dates.DateFormatter('%H:00'))\n",
    "#plt.ylim(0, 95) ## could modify ylim manually, but below works even if data changes\n",
    "ax.margins(0.025) ## control extra space at beginning and end of x-axis\n",
    "plt.title(\"Northern California Earthquakes, 18 October 1989\")\n",
    "plt.xlabel(\"Hour of the Day\")\n",
    "plt.ylabel(\"Number of Earthquakes\");\n",
    "plt.savefig(\"plot1.pdf\") # save the plot too"
   ]
  },
  {
   "cell_type": "markdown",
   "metadata": {},
   "source": [
    "## Exercise 3. Come Back and find solution \n",
    "Plot earthquake variability across some category (year, month, time of day, or spatial range)"
   ]
  },
  {
   "cell_type": "code",
   "execution_count": null,
   "metadata": {},
   "outputs": [],
   "source": [
    "df.loc['2008-01-01':'2012-01-01'].resample('M').count()['ID'].head()\n",
    "counts_monthy = df.groupby(pd.Grouper(freq='M')).count()['ID'][-48:]\n",
    "\n",
    "fig, ax = plt.subplots() ## in one line instead of two above, just to show this\n",
    "plt.bar(counts_monthy.index, counts_monthy, width=.03, \n",
    "        color='g', align='center')\n",
    "ax.xaxis.set_major_formatter(dates.DateFormatter('%H:00'))\n",
    "#plt.ylim(0, 95) ## could modify ylim manually, but below works even if data changes\n",
    "ax.margins(0.025) ## control extra space at beginning and end of x-axis\n",
    "plt.title(\"Northern California Earthquakes, 18 October 1989\")\n",
    "plt.xlabel(\"Month\")\n",
    "plt.ylabel(\"Number of Earthquakes\");"
   ]
  },
  {
   "cell_type": "markdown",
   "metadata": {},
   "source": [
    "---\n",
    "## 10. Statistical visualization with [Seaborn](https://seaborn.pydata.org)<a id='S10'></a>\n",
    "\n",
    "[Seaborn](https://seaborn.pydata.org) is one option for moving beyond the basic plots.  It's focus is statistical visualization.\n",
    "\n",
    "\n",
    "### 10.1 Density/Bivariate Distribution Plots\n",
    "When we have a lot of data, scatter plots can get difficult to read.  Let's do a density plot instead to explore a bivariate distribution.  Seaborn has several options, both for the density plot and supplementary plots along the axes.  http://seaborn.pydata.org/tutorial/distributions.html#plotting-bivariate-distributions"
   ]
  },
  {
   "cell_type": "code",
   "execution_count": null,
   "metadata": {},
   "outputs": [],
   "source": [
    "sns.set() # use Seaborn default styling\n",
    "sns.jointplot(x=df['MAG'][:1000], \n",
    "              y=df['DEP'][:1000], \n",
    "              kind=\"hex\", \n",
    "              color=\"k\"); # color k is black"
   ]
  },
  {
   "cell_type": "markdown",
   "metadata": {},
   "source": [
    "`jointplot` takes care of the overall plot.  If you want more control over the core and axes plots, you can add a density plot and axes plots to an existing matplotlib figure."
   ]
  },
  {
   "cell_type": "code",
   "execution_count": null,
   "metadata": {},
   "outputs": [],
   "source": [
    "fig, ax = plt.subplots(figsize=(6, 6))\n",
    "sns.kdeplot(df['MAG'][:1000], df['DEP'][:1000], ax=ax)\n",
    "sns.rugplot(df['MAG'][:1000], color=\"g\", ax=ax)\n",
    "sns.rugplot(df['DEP'][:1000], vertical=True, ax=ax);"
   ]
  },
  {
   "cell_type": "markdown",
   "metadata": {},
   "source": [
    "### 10.2 Regression and Trend Lines\n",
    "Seaborn has many functions for visualizing linear relationships and even interaction effect between (or conditional effects of) variables: http://seaborn.pydata.org/tutorial/regression.html\n",
    "\n",
    "First, a standard regression plot"
   ]
  },
  {
   "cell_type": "code",
   "execution_count": null,
   "metadata": {},
   "outputs": [],
   "source": [
    "sns.regplot(x=\"MAG\", y=\"DEP\", data=df[:1000]);"
   ]
  },
  {
   "cell_type": "markdown",
   "metadata": {},
   "source": [
    "This includes a 95% confidence interval on the slope coefficient in the plot by default (you can turn it off with the `ci` parameter).  We can also plot the residuals (errors) from a regression to check fit and adherence to model assumptions:  "
   ]
  },
  {
   "cell_type": "code",
   "execution_count": null,
   "metadata": {},
   "outputs": [],
   "source": [
    "sns.residplot(\"MAG\",\"DEP\", df[:1000]);"
   ]
  },
  {
   "cell_type": "markdown",
   "metadata": {},
   "source": [
    "There are further options for variations like polynomial fits, logistic regression, loess smoothing, and robust regression (eliminates/down-weights outliers).\n",
    "\n",
    "In addition to `regplot`, there's also the slightly more powerful `lmplot` that let's us condition the slope and intercept on a third variable."
   ]
  },
  {
   "cell_type": "code",
   "execution_count": null,
   "metadata": {},
   "outputs": [],
   "source": [
    "df['north'] = df['LAT'] > 38 # create a new variable to divide earthquakes by latitude\n",
    "sns.lmplot(x=\"MAG\", y=\"DEP\", hue=\"north\", data=df.sample(500));"
   ]
  },
  {
   "cell_type": "markdown",
   "metadata": {},
   "source": [
    "As you can see, we can now easily compare multiple variables and fits all on one graph."
   ]
  },
  {
   "cell_type": "markdown",
   "metadata": {},
   "source": [
    "---\n",
    "## 11. Image Data and 3D Surfaces<a id='S11'></a>\n",
    "\n",
    "Plot a MRI image, change the [color map](https://matplotlib.org/examples/color/colormaps_reference.html); [source](https://matplotlib.org/examples/pylab_examples/mri_demo.html)  \n",
    "[Link to image data](https://github.com/matplotlib/matplotlib/blob/master/lib/matplotlib/mpl-data/sample_data/s1045.ima.gz) if your cbook.get_sample_data path is broken like mine.\n",
    "\n",
    "[Colormap creation tool](http://jdherman.github.io/colormap/)\n",
    "\n",
    "* Images are just arrays of pixel values\n",
    "* `ax.imshow(array)` will display an array as an image.\n",
    "* The **scikit-image** package has a lot of functionality for edge detection, thresholding, segmenting images but for this class we will just show you how to display images.\n",
    "* You can add annotations and colormaps to axes with imshow on them just like with other plot types"
   ]
  },
  {
   "cell_type": "code",
   "execution_count": null,
   "metadata": {},
   "outputs": [],
   "source": [
    "import matplotlib.cbook as cbook # for the data\n",
    "import matplotlib.cm as cm # for color map\n",
    "import cv2 as cv"
   ]
  },
  {
   "cell_type": "code",
   "execution_count": null,
   "metadata": {},
   "outputs": [],
   "source": [
    "# Might be necessary if the cookbook symlink is broken. /shrug_emoji\n",
    "import os\n",
    "home = os.path.expanduser('~')\n",
    "dfile = cbook.get_sample_data(home+'/Downloads/s1045.ima.gz')"
   ]
  },
  {
   "cell_type": "code",
   "execution_count": null,
   "metadata": {},
   "outputs": [],
   "source": [
    "fig, ax = plt.subplots(num=\"MRI_demo\")\n",
    "\n",
    "# Data are 256x256 16 bit integers\n",
    "#dfile = cbook.get_sample_data('s1045.ima.gz')\n",
    "im = np.frombuffer(dfile.read(), np.uint16).astype(float)\n",
    "#im = dfile.astype(float)\n",
    "im.shape = (256, 256)\n",
    "dfile.close()\n",
    "\n",
    "ax.imshow(im, cmap=cm.gray)\n",
    "ax.axis('off');"
   ]
  },
  {
   "cell_type": "code",
   "execution_count": null,
   "metadata": {},
   "outputs": [],
   "source": [
    "fig, ax = plt.subplots(num=\"MRI_demo\")\n",
    "ax.imshow(im, cmap=cm.viridis)\n",
    "ax.axis('off')"
   ]
  },
  {
   "cell_type": "code",
   "execution_count": null,
   "metadata": {},
   "outputs": [],
   "source": [
    "c = np.matrix('0,0,0; 0,0,0; 0,1,1; 0,1,1; 0,1,1; 0,1,2; 0,2,2; 0,2,2; 0,2,3; 0,2,3; 0,3,3; 0,3,4; 0,3,4; 0,3,4; 0,4,5; 0,4,5; 0,4,5; 0,4,6; 0,5,6; 0,5,6; 0,5,7; 0,5,7; 0,6,7; 0,6,8; 0,6,8; 0,6,8; 0,7,9; 0,7,9; 0,7,10; 0,7,10; 0,8,10; 0,8,11; 0,8,11; 0,8,11; 0,9,12; 0,9,12; 0,9,12; 0,9,13; 0,10,13; 0,10,13; 0,10,14; 0,10,14; 0,11,14; 0,11,15; 0,11,15; 0,11,15; 0,12,16; 0,12,16; 0,12,16; 0,12,17; 0,13,17; 0,13,17; 0,13,18; 0,13,18; 0,14,18; 0,14,19; 0,14,19; 0,15,19; 0,15,20; 0,15,20; 0,15,20; 0,16,21; 0,16,21; 0,16,21; 0,16,22; 1,17,23; 1,18,24; 1,19,25; 2,20,26; 2,21,27; 3,22,28; 3,23,29; 4,23,30; 4,24,31; 4,25,32; 5,26,33; 5,27,34; 6,28,35; 6,29,36; 6,30,37; 7,30,38; 7,31,39; 8,32,40; 8,33,41; 9,34,42; 9,35,44; 9,36,45; 10,37,46; 10,37,47; 11,38,48; 11,39,49; 12,40,50; 12,41,51; 12,42,52; 13,43,53; 13,44,54; 14,44,55; 14,45,56; 15,46,57; 15,47,58; 15,48,59; 16,49,60; 16,50,61; 17,50,62; 17,51,63; 17,52,64; 18,53,65; 18,54,66; 19,55,67; 19,56,68; 20,57,69; 20,57,70; 20,58,71; 21,59,72; 21,60,73; 22,61,74; 22,62,75; 23,63,77; 23,64,78; 23,64,79; 24,65,80; 24,66,81; 25,67,82; 25,68,83; 26,69,84; 26,70,85; 26,71,86; 27,71,87; 28,72,88; 29,74,89; 31,75,90; 32,76,91; 34,77,92; 35,78,93; 37,80,93; 38,81,94; 40,82,95; 41,83,96; 43,84,97; 44,86,98; 46,87,99; 48,88,100; 49,89,101; 51,90,102; 52,91,103; 54,93,104; 55,94,105; 57,95,106; 58,96,107; 60,97,108; 61,99,109; 63,100,110; 64,101,110; 66,102,111; 67,103,112; 69,105,113; 70,106,114; 72,107,115; 73,108,116; 75,109,117; 76,110,118; 78,112,119; 79,113,120; 81,114,121; 82,115,122; 84,116,123; 85,118,124; 87,119,125; 88,120,126; 90,121,127; 91,122,128; 93,124,128; 94,125,129; 96,126,130; 98,127,131; 99,128,132; 101,129,133; 102,131,134; 104,132,135; 105,133,136; 107,134,137; 108,135,138; 110,137,139; 111,138,140; 113,139,141; 114,140,142; 116,141,143; 117,143,144; 119,144,145; 120,145,145; 122,146,146; 123,147,147; 125,149,148; 127,151,148; 129,152,148; 131,154,149; 133,156,149; 135,157,149; 138,159,149; 140,161,150; 142,162,150; 144,164,150; 146,166,150; 148,167,151; 150,169,151; 152,171,151; 154,172,151; 156,174,152; 158,176,152; 160,177,152; 162,179,152; 164,181,153; 166,183,153; 168,184,153; 171,186,153; 173,188,154; 175,189,154; 177,191,154; 179,193,154; 181,194,155; 183,196,155; 185,198,155; 187,199,155; 189,201,156; 191,203,156; 193,204,156; 195,206,156; 197,208,157; 199,210,157; 201,211,157; 203,213,157; 206,215,158; 208,216,158; 210,218,158; 212,220,158; 214,221,159; 216,223,159; 218,225,159; 220,226,159; 222,228,160; 224,230,160; 226,231,160; 228,233,161; 230,235,161; 232,236,161; 234,238,161; 236,240,162; 239,242,162; 241,243,162; 243,245,162; 245,247,163; 247,248,163; 249,250,163; 251,252,163; 253,253,164; 255,255,164')\n",
    "cmp = matplotlib.colors.ListedColormap(c/255.0)"
   ]
  },
  {
   "cell_type": "code",
   "execution_count": null,
   "metadata": {},
   "outputs": [],
   "source": [
    "fig, ax = plt.subplots(num=\"MRI_demo\")\n",
    "ax.imshow(im, cmap=cmp)\n",
    "ax.axis('off')"
   ]
  },
  {
   "cell_type": "markdown",
   "metadata": {},
   "source": [
    "## 3D Surfaces\n",
    "\n",
    "[mplot3d](https://matplotlib.org/mpl_toolkits/mplot3d/index.html) if for 3D plotting.  [Example source](https://matplotlib.org/examples/mplot3d/custom_shaded_3d_surface.html)  \n",
    "[Link to image data](https://github.com/matplotlib/matplotlib/blob/master/lib/matplotlib/mpl-data/sample_data/jacksboro_fault_dem.npz)\n"
   ]
  },
  {
   "cell_type": "code",
   "execution_count": null,
   "metadata": {},
   "outputs": [],
   "source": [
    "# Potentially required fix. If the cell below fails, download the data from the link above and then save the path like this:\n",
    "import os\n",
    "home = os.path.expanduser('~')\n",
    "filename = home+'/Downloads/jacksboro_fault_dem.npz'"
   ]
  },
  {
   "cell_type": "code",
   "execution_count": null,
   "metadata": {},
   "outputs": [],
   "source": [
    "from mpl_toolkits.mplot3d import Axes3D\n",
    "from matplotlib.colors import LightSource\n",
    "\n",
    "#filename = cbook.get_sample_data('jacksboro_fault_dem.npz', \n",
    "                                 #asfileobj=False) #data\n",
    "with np.load(filename) as dem:\n",
    "    \n",
    "    z = dem['elevation']\n",
    "    nrows, ncols = z.shape\n",
    "    x = np.linspace(dem['xmin'], dem['xmax'], ncols)\n",
    "    y = np.linspace(dem['ymin'], dem['ymax'], nrows)\n",
    "    x, y = np.meshgrid(x, y)\n",
    "\n",
    "region = np.s_[5:50, 5:50]\n",
    "x, y, z = x[region], y[region], z[region]\n",
    "\n",
    "print(x.shape)"
   ]
  },
  {
   "cell_type": "code",
   "execution_count": null,
   "metadata": {},
   "outputs": [],
   "source": [
    "%matplotlib notebook\n",
    "fig, ax = plt.subplots(subplot_kw=dict(projection='3d'))\n",
    "\n",
    "ls = LightSource(270, 45)\n",
    "# To use a custom hillshading mode, override the built-in shading and pass\n",
    "# in the rgb colors of the shaded surface calculated from \"shade\".\n",
    "rgb = ls.shade(z, cmap=cm.gist_earth, vert_exag=0.1, blend_mode='soft') # make colors\n",
    "surf = ax.plot_surface(x, y, z, # 2D arrays of data\n",
    "                       rstride=1, # row step\n",
    "                       cstride=1, # column step\n",
    "                       facecolors=rgb, #the shade from above\n",
    "                       shade=False) # because we already computed what we wanted"
   ]
  },
  {
   "cell_type": "markdown",
   "metadata": {},
   "source": [
    "---\n",
    "## Interactive Plots\n",
    "Above we turned on the interactive plots in the notebook.  Let's turn them back on to see what they do."
   ]
  },
  {
   "cell_type": "code",
   "execution_count": null,
   "metadata": {},
   "outputs": [],
   "source": [
    "%matplotlib notebook\n",
    "plt.figure()\n",
    "pts = plt.scatter(bigones['MAG'], bigones['DEP'], # data\n",
    "        s=50, # marker size\n",
    "        cmap=\"cool\", # color scheme: https://matplotlib.org/users/colormaps.html\n",
    "        c=1.0*(bigones['YEAR']-1983)/28) # specific color for each point (range between 0 and 1)\n",
    "plt.ylabel(\"Depth\")\n",
    "plt.xlabel(\"Magnitude\")\n",
    "plt.title(\"Large Earthquakes\")\n",
    "clrbar = plt.colorbar(pts, ticks=[1.0/28, 27.0/28]) # data takes values from 1983=1/28, 2010=27/28 (none in 2011)\n",
    "clrbar.ax.set_yticklabels(['1984', '2010']);\n"
   ]
  },
  {
   "cell_type": "markdown",
   "metadata": {},
   "source": [
    "#### And now turn it back off:"
   ]
  },
  {
   "cell_type": "code",
   "execution_count": null,
   "metadata": {},
   "outputs": [],
   "source": [
    "%matplotlib inline"
   ]
  },
  {
   "cell_type": "markdown",
   "metadata": {},
   "source": [
    "---\n",
    "## 12. Paletteable<a id='S12'></a>\n",
    "* This library features all of the default matplotlib and seaborn palettes along with some other unique palettes\n",
    "* You can use it to create continous colormaps as well as discrete colormaps.\n",
    "* Also keep in mind whether you want your colormap to show categorical data, sequentially increasing data, or diverging data (extrema are more pronounced) and pick the appropriate colormap\n",
    "* Read the docs [here](https://jiffyclub.github.io/palettable/)  \n",
    "#### A quick example using a Wes Anderson color palette:"
   ]
  },
  {
   "cell_type": "code",
   "execution_count": null,
   "metadata": {},
   "outputs": [],
   "source": [
    "# May be necessary if you don't have this installed. \n",
    "!pip3 install palettable  # If this doesn't work: open a terminal, and run: conda install palettable"
   ]
  },
  {
   "cell_type": "code",
   "execution_count": null,
   "metadata": {},
   "outputs": [],
   "source": [
    "# Use .mpl_colors for discrete colors and .mpl_colormap for continuous ranges.\n",
    "import palettable\n",
    "WA_colors = palettable.wesanderson.Aquatic2_5.mpl_colors # All the palettes are accessed via cat.palette\n",
    "sns.palplot(WA_colors)"
   ]
  },
  {
   "cell_type": "markdown",
   "metadata": {
    "collapsed": true
   },
   "source": [
    "---\n",
    "## 13. Documentation and Resources<a id='S13'></a>\n",
    "\n",
    "### Matplotlib\n",
    "\n",
    "* [Matplotlib Beginnner Tips](http://matplotlib.org/users/beginner.html)\n",
    "* [Pyplot Module Summary](http://matplotlib.org/api/pyplot_summary.html)\n",
    "* [MPL Gallery](http://matplotlib.org/gallery.html)\n",
    "\n",
    "### Other packages in this class\n",
    "* [Seaborn Docs](https://seaborn.pydata.org/)\n",
    "* [Seaborn Gallery](https://seaborn.pydata.org/examples/index.html)\n",
    "* [Palettable](https://jiffyclub.github.io/palettable/)\n"
   ]
  },
  {
   "cell_type": "code",
   "execution_count": null,
   "metadata": {},
   "outputs": [],
   "source": []
  }
 ],
 "metadata": {
  "kernelspec": {
   "display_name": "Python 3",
   "language": "python",
   "name": "python3"
  },
  "language_info": {
   "codemirror_mode": {
    "name": "ipython",
    "version": 3
   },
   "file_extension": ".py",
   "mimetype": "text/x-python",
   "name": "python",
   "nbconvert_exporter": "python",
   "pygments_lexer": "ipython3",
   "version": "3.7.1"
  }
 },
 "nbformat": 4,
 "nbformat_minor": 2
}
